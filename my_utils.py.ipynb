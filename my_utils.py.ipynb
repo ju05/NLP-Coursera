{
 "cells": [
  {
   "cell_type": "code",
   "execution_count": 14,
   "id": "04573c1a",
   "metadata": {},
   "outputs": [],
   "source": [
    "import string\n",
    "import nltk\n",
    "from nltk.corpus import twitter_samples"
   ]
  },
  {
   "cell_type": "code",
   "execution_count": 15,
   "id": "05597631",
   "metadata": {},
   "outputs": [],
   "source": [
    "class TextVectorizer:\n",
    "    def __init__(self):\n",
    "        self.vocab = []\n",
    "        self.vocab_size = 0\n",
    "        self.freq_dict = {}\n",
    "\n",
    "    def build_vocab(self, pos_tweets, neg_tweets):\n",
    "        for tweet in pos_tweets + neg_tweets:\n",
    "            words = [w.translate(str.maketrans('', '', string.punctuation)) for w in tweet.split()]\n",
    "            for word in words:\n",
    "                if word not in self.vocab:\n",
    "                    self.vocab.append(word)\n",
    "        self.vocab_size = len(self.vocab)\n",
    "\n",
    "    def generate_freq_dict(self, pos_tweets, neg_tweets):\n",
    "        self.freq_dict = {}\n",
    "\n",
    "        for word in self.vocab:\n",
    "            pos_freq = 0\n",
    "            neg_freq = 0\n",
    "            for tweet in pos_tweets:\n",
    "                words_in_tweet = tweet.translate(str.maketrans('', '', string.punctuation)).split()\n",
    "                pos_freq += words_in_tweet.count(word)\n",
    "            for tweet in neg_tweets:\n",
    "                words_in_tweet = tweet.translate(str.maketrans('', '', string.punctuation)).split()\n",
    "                neg_freq += words_in_tweet.count(word)\n",
    "            self.freq_dict[word] = {'positive': pos_freq, 'negative': neg_freq}\n",
    "\n",
    "    def count_neg_pos_words(self):\n",
    "        pos_sum = sum(val['positive'] for val in self.freq_dict.values())\n",
    "        neg_sum = sum(val['negative'] for val in self.freq_dict.values())\n",
    "        return pos_sum, neg_sum\n",
    "\n",
    "    def vectorize_text(self, text):\n",
    "        vector = [0] * self.vocab_size\n",
    "        words = text.split()\n",
    "        for word in words:\n",
    "            if word in self.vocab:\n",
    "                index = self.vocab.index(word)\n",
    "                vector[index] = 1\n",
    "        return vector\n",
    "    \n",
    "    def extract_features(self, tweet):\n",
    "        words = tweet.translate(str.maketrans('', '', string.punctuation)).split()\n",
    "        unique_words = []\n",
    "        for word in words:\n",
    "            if word not in unique_words:\n",
    "                unique_words.append(word)\n",
    "        bias_unit = 1\n",
    "        pos_freq_sum = sum(self.freq_dict[word]['positive'] for word in unique_words if word in self.freq_dict)\n",
    "        neg_freq_sum = sum(self.freq_dict[word]['negative'] for word in unique_words if word in self.freq_dict)\n",
    "        return [bias_unit, pos_freq_sum, neg_freq_sum]"
   ]
  },
  {
   "cell_type": "code",
   "execution_count": 16,
   "id": "e2c10301",
   "metadata": {
    "scrolled": true
   },
   "outputs": [
    {
     "name": "stderr",
     "output_type": "stream",
     "text": [
      "[nltk_data] Downloading package twitter_samples to\n",
      "[nltk_data]     C:\\Users\\JuJu\\AppData\\Roaming\\nltk_data...\n",
      "[nltk_data]   Package twitter_samples is already up-to-date!\n"
     ]
    },
    {
     "data": {
      "text/plain": [
       "True"
      ]
     },
     "execution_count": 16,
     "metadata": {},
     "output_type": "execute_result"
    }
   ],
   "source": [
    "nltk.download('twitter_samples')"
   ]
  },
  {
   "cell_type": "code",
   "execution_count": 20,
   "id": "cc7961d0",
   "metadata": {},
   "outputs": [
    {
     "ename": "IndentationError",
     "evalue": "unexpected indent (2399205821.py, line 2)",
     "output_type": "error",
     "traceback": [
      "\u001b[1;36m  Cell \u001b[1;32mIn[20], line 2\u001b[1;36m\u001b[0m\n\u001b[1;33m    neg_tweets = [\"I am sad, I am not learning NLP\", 'I am sad']\u001b[0m\n\u001b[1;37m    ^\u001b[0m\n\u001b[1;31mIndentationError\u001b[0m\u001b[1;31m:\u001b[0m unexpected indent\n"
     ]
    }
   ],
   "source": [
    "pos_tweets = [\"I am happy because I am learning NLP\", \"I am happy\"]\n",
    "    neg_tweets = [\"I am sad, I am not learning NLP\", 'I am sad']\n",
    "    text_vectorizer = TextVectorizer()\n",
    "    text_vectorizer.build_vocab(pos_tweets,  neg_tweets)\n",
    "    text_vectorizer.generate_freq_dict(pos_tweets, neg_tweets)\n",
    "    text_vectorizer.count_neg_pos_words()\n",
    "\n",
    "    text1 = \"I am happy because I am learning NLP\"\n",
    "    text2 = 'I am sad, I am not learning NLP'\n",
    "    vector3_t1 = text_vectorizer.extract_features(text1)\n",
    "    vector3_t2 = text_vectorizer.extract_features(text2)\n",
    "\n",
    "    print(\"Vocabulary:\", text_vectorizer.vocab)\n",
    "    print(\"Frequency Dictionary:\", text_vectorizer.freq_dict)\n",
    "    print('Text1 Vector3: ', vector3_t1, 'Text2 Vector3: ', vector3_t2 )"
   ]
  },
  {
   "cell_type": "code",
   "execution_count": 17,
   "id": "a117228f",
   "metadata": {},
   "outputs": [],
   "source": [
    "all_pos_tweets = twitter_samples.strings('positive_tweets.json')\n",
    "all_neg_tweets = twitter_samples.strings('negative_tweets.json')"
   ]
  },
  {
   "cell_type": "code",
   "execution_count": null,
   "id": "1d0239de",
   "metadata": {},
   "outputs": [],
   "source": [
    "text_vectorizer = TextVectorizer()\n",
    "text_vectorizer.build_vocab(all_pos_tweets,  all_neg_tweets)\n",
    "text_vectorizer.generate_freq_dict(all_pos_tweets, all_neg_tweets)\n",
    "print(text_vectorizer.count_neg_pos_words())"
   ]
  },
  {
   "cell_type": "code",
   "execution_count": null,
   "id": "c1c0ff56",
   "metadata": {},
   "outputs": [],
   "source": []
  }
 ],
 "metadata": {
  "kernelspec": {
   "display_name": "Python 3 (ipykernel)",
   "language": "python",
   "name": "python3"
  },
  "language_info": {
   "codemirror_mode": {
    "name": "ipython",
    "version": 3
   },
   "file_extension": ".py",
   "mimetype": "text/x-python",
   "name": "python",
   "nbconvert_exporter": "python",
   "pygments_lexer": "ipython3",
   "version": "3.10.9"
  }
 },
 "nbformat": 4,
 "nbformat_minor": 5
}
